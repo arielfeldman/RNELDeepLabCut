{
 "cells": [
  {
   "cell_type": "code",
   "execution_count": 1,
   "metadata": {
    "collapsed": true
   },
   "outputs": [],
   "source": [
    "#imports\n",
    "import numpy as np\n",
    "from skimage.measure import label, regionprops\n",
    "from skimage.draw import line, set_color\n",
    "import imageio\n",
    "import cv2\n",
    "import operator\n",
    "import math\n",
    "import matplotlib.pyplot as plt\n",
    "%matplotlib inline \n",
    "import time\n",
    "from tqdm import tqdm_notebook\n",
    "from PIL import Image\n",
    "import argparse\n",
    "from tqdm import tqdm"
   ]
  },
  {
   "cell_type": "code",
   "execution_count": 8,
   "metadata": {},
   "outputs": [
    {
     "data": {
      "application/vnd.jupyter.widget-view+json": {
       "model_id": "99b04e5f917649f1a2ea6d5381694374"
      }
     },
     "metadata": {},
     "output_type": "display_data"
    },
    {
     "name": "stdout",
     "output_type": "stream",
     "text": [
      "\n",
      "conversion complete!\n"
     ]
    }
   ],
   "source": [
    "## convert a video file to an .mp4 using imageio (ffmpeg) and default settings---usually much smaller file size\n",
    "\n",
    "import imageio\n",
    "import os\n",
    "from tqdm import tqdm_notebook\n",
    "\n",
    "infile = '/home/kemerelab/RNELDeepLabCut/EricDBS/DBSVideos/2018-04-21-150400.webm'\n",
    "\n",
    "verbose = False\n",
    "\n",
    "try:\n",
    "    reader = imageio.get_reader(infile, 'ffmpeg')\n",
    "    fps = reader.get_meta_data()['fps']\n",
    "    \n",
    "    if verbose:\n",
    "        print('input video file has a framerate of {} fps'.format(fps))\n",
    "    \n",
    "    try:\n",
    "        writer = imageio.get_writer('/home/kemerelab/RNELDeepLabCut/EricDBS/DBSVideos/2018-04-21-150400.mp4', fps=fps,)\n",
    "        for im in tqdm_notebook(reader, desc='converting video'):\n",
    "            writer.append_data(im)\n",
    "\n",
    "        writer.close()\n",
    "        print('conversion complete!')\n",
    "    \n",
    "    except:\n",
    "        print(\"something went wrong!\")\n",
    "except:\n",
    "    print(\"something went wrong; couldn't open file?...\")"
   ]
  },
  {
   "cell_type": "code",
   "execution_count": null,
   "metadata": {
    "collapsed": true
   },
   "outputs": [],
   "source": []
  }
 ],
 "metadata": {
  "kernelspec": {
   "display_name": "Python [default]",
   "language": "python",
   "name": "python3"
  },
  "language_info": {
   "codemirror_mode": {
    "name": "ipython",
    "version": 3
   },
   "file_extension": ".py",
   "mimetype": "text/x-python",
   "name": "python",
   "nbconvert_exporter": "python",
   "pygments_lexer": "ipython3",
   "version": "3.5.4"
  }
 },
 "nbformat": 4,
 "nbformat_minor": 2
}
